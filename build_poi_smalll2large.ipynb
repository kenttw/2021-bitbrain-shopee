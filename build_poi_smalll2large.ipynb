{
 "cells": [
  {
   "cell_type": "code",
   "execution_count": 1,
   "metadata": {},
   "outputs": [
    {
     "name": "stderr",
     "output_type": "stream",
     "text": [
      "/Users/kent/git/kent-ai-learning-notebook/venv/lib/python3.8/site-packages/fuzzywuzzy/fuzz.py:11: UserWarning: Using slow pure-python SequenceMatcher. Install python-Levenshtein to remove this warning\n",
      "  warnings.warn('Using slow pure-python SequenceMatcher. Install python-Levenshtein to remove this warning')\n"
     ]
    }
   ],
   "source": [
    "import pandas as pd\n",
    "import nlp_util\n",
    "from termcolor import colored\n"
   ]
  },
  {
   "cell_type": "code",
   "execution_count": 2,
   "metadata": {},
   "outputs": [],
   "source": [
    "df = pd.read_csv('./train.csv')\n",
    "df[['POI', 'street']] = df['POI/street'].str.split('/', 1, expand=True)\n",
    "df = df.drop(labels=['POI/street'], axis=1)"
   ]
  },
  {
   "cell_type": "code",
   "execution_count": 3,
   "metadata": {},
   "outputs": [
    {
     "data": {
      "text/html": [
       "<div>\n",
       "<style scoped>\n",
       "    .dataframe tbody tr th:only-of-type {\n",
       "        vertical-align: middle;\n",
       "    }\n",
       "\n",
       "    .dataframe tbody tr th {\n",
       "        vertical-align: top;\n",
       "    }\n",
       "\n",
       "    .dataframe thead th {\n",
       "        text-align: right;\n",
       "    }\n",
       "</style>\n",
       "<table border=\"1\" class=\"dataframe\">\n",
       "  <thead>\n",
       "    <tr style=\"text-align: right;\">\n",
       "      <th></th>\n",
       "      <th>id</th>\n",
       "      <th>raw_address</th>\n",
       "      <th>POI</th>\n",
       "      <th>street</th>\n",
       "    </tr>\n",
       "  </thead>\n",
       "  <tbody>\n",
       "    <tr>\n",
       "      <th>0</th>\n",
       "      <td>0</td>\n",
       "      <td>jl kapuk timur delta sili iii lippo cika 11 a ...</td>\n",
       "      <td></td>\n",
       "      <td>jl kapuk timur delta sili iii lippo cika</td>\n",
       "    </tr>\n",
       "    <tr>\n",
       "      <th>1</th>\n",
       "      <td>1</td>\n",
       "      <td>aye, jati sampurna</td>\n",
       "      <td></td>\n",
       "      <td></td>\n",
       "    </tr>\n",
       "  </tbody>\n",
       "</table>\n",
       "</div>"
      ],
      "text/plain": [
       "   id                                        raw_address POI  \\\n",
       "0   0  jl kapuk timur delta sili iii lippo cika 11 a ...       \n",
       "1   1                                 aye, jati sampurna       \n",
       "\n",
       "                                     street  \n",
       "0  jl kapuk timur delta sili iii lippo cika  \n",
       "1                                            "
      ]
     },
     "execution_count": 3,
     "metadata": {},
     "output_type": "execute_result"
    }
   ],
   "source": [
    "df.head(2)"
   ]
  },
  {
   "cell_type": "code",
   "execution_count": 4,
   "metadata": {},
   "outputs": [],
   "source": [
    "poi,street,raw = \"toko bb kids\", \"raya samb gede\", \"xxx raya. sa-mb gede, 299 toko bb k&ids yyy\",\n",
    "p_start,p_end,s_start,s_end = nlp_util.get_bio_tagging_range(raw,street,poi)"
   ]
  },
  {
   "cell_type": "code",
   "execution_count": 5,
   "metadata": {},
   "outputs": [],
   "source": [
    "df_poi = df[df['POI'] != '']"
   ]
  },
  {
   "cell_type": "code",
   "execution_count": 25,
   "metadata": {},
   "outputs": [
    {
     "name": "stdout",
     "output_type": "stream",
     "text": [
      "**************************************************************"
     ]
    }
   ],
   "source": [
    "pair_list = []\n",
    "for id,row in df_poi.iterrows():\n",
    "    \n",
    "    street_str = row.street\n",
    "    POI_str = row.POI\n",
    "    raw_str = row.raw_address\n",
    "    \n",
    "    try:\n",
    "    \n",
    "        p_start,p_end,s_start,s_end = nlp_util.get_bio_tagging_range(raw_str,street_str,POI_str)\n",
    "    #     print(POI_str,\"===>\",raw_str[:p_start]+ colored(raw_str[p_start:p_end],\"red\")+raw_str[p_end:])\n",
    "\n",
    "        raw = nlp_util.prepare_text(raw_str[p_start:p_end])\n",
    "        label = nlp_util.prepare_text(POI_str)\n",
    "\n",
    "    #     print(target,label)\n",
    "\n",
    "        pair_result = nlp_util.get_fuzzy_pairs(raw, label) \n",
    "\n",
    "        pair_list.append(pair_result)\n",
    "    except:\n",
    "        print(\"*\",end='')\n"
   ]
  },
  {
   "cell_type": "code",
   "execution_count": 31,
   "metadata": {},
   "outputs": [
    {
     "data": {
      "text/plain": [
       "[0, [('rnd', 'rnd'), ('printing', 'prin')]]"
      ]
     },
     "execution_count": 31,
     "metadata": {},
     "output_type": "execute_result"
    }
   ],
   "source": [
    "pair_list[22]"
   ]
  },
  {
   "cell_type": "code",
   "execution_count": 43,
   "metadata": {},
   "outputs": [],
   "source": [
    "from collections import Counter\n",
    "poi_s2l = {}\n",
    "for _ , pairs in pair_list:\n",
    "    for long_str,short_str in pairs:\n",
    "        if short_str == None: continue\n",
    "\n",
    "        if len(long_str) > len(short_str) :\n",
    "            \n",
    "            if short_str in poi_s2l:\n",
    "                cc = poi_s2l[short_str]\n",
    "                cc.update([long_str])\n",
    "            else:\n",
    "                poi_s2l[short_str] = Counter([long_str])\n",
    "        \n",
    "    "
   ]
  },
  {
   "cell_type": "code",
   "execution_count": 46,
   "metadata": {},
   "outputs": [],
   "source": [
    "import pickle\n",
    "with open(\"./poi_s2l.pkl\",\"wb\") as fw:\n",
    "    pickle.dump(poi_s2l,fw)\n"
   ]
  },
  {
   "cell_type": "code",
   "execution_count": null,
   "metadata": {},
   "outputs": [],
   "source": []
  }
 ],
 "metadata": {
  "kernelspec": {
   "display_name": "Python 3",
   "language": "python",
   "name": "python3"
  },
  "language_info": {
   "codemirror_mode": {
    "name": "ipython",
    "version": 3
   },
   "file_extension": ".py",
   "mimetype": "text/x-python",
   "name": "python",
   "nbconvert_exporter": "python",
   "pygments_lexer": "ipython3",
   "version": "3.8.5"
  }
 },
 "nbformat": 4,
 "nbformat_minor": 4
}
